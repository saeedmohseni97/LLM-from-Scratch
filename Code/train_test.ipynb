{
 "cells": [
  {
   "cell_type": "code",
   "execution_count": 1,
   "metadata": {
    "executionInfo": {
     "elapsed": 5234,
     "status": "ok",
     "timestamp": 1724373762610,
     "user": {
      "displayName": "Saeed Mohseni seh deh",
      "userId": "13995196286285576780"
     },
     "user_tz": 240
    },
    "id": "5vdxeTuOfKSK"
   },
   "outputs": [],
   "source": [
    "import numpy as np\n",
    "import torch\n",
    "from torch import nn\n",
    "from torch.nn import functional as F\n",
    "import matplotlib.pyplot as plt"
   ]
  },
  {
   "cell_type": "code",
   "execution_count": 2,
   "metadata": {
    "executionInfo": {
     "elapsed": 793,
     "status": "ok",
     "timestamp": 1724373789480,
     "user": {
      "displayName": "Saeed Mohseni seh deh",
      "userId": "13995196286285576780"
     },
     "user_tz": 240
    },
    "id": "rhWoaOcLO9YM"
   },
   "outputs": [],
   "source": [
    "# loading The Dataset\n",
    "with open('/home/saeedmohseni/Desktop/LLM/Dataset/text.txt', 'r', encoding='utf-8') as f:\n",
    "#with open('input.txt', 'r', encoding='utf-8') as f:\n",
    "  text = f.read()"
   ]
  },
  {
   "cell_type": "code",
   "execution_count": 3,
   "metadata": {
    "colab": {
     "base_uri": "https://localhost:8080/"
    },
    "executionInfo": {
     "elapsed": 6,
     "status": "ok",
     "timestamp": 1724373789480,
     "user": {
      "displayName": "Saeed Mohseni seh deh",
      "userId": "13995196286285576780"
     },
     "user_tz": 240
    },
    "id": "y_vqHS0iU8xY",
    "outputId": "555f7e3d-4cbe-44df-87ee-bb116934933b"
   },
   "outputs": [
    {
     "name": "stdout",
     "output_type": "stream",
     "text": [
      "length of dataset in characters:  160046\n"
     ]
    }
   ],
   "source": [
    "print(\"length of dataset in characters: \", len(text))"
   ]
  },
  {
   "cell_type": "code",
   "execution_count": 4,
   "metadata": {
    "executionInfo": {
     "elapsed": 203,
     "status": "ok",
     "timestamp": 1724373791402,
     "user": {
      "displayName": "Saeed Mohseni seh deh",
      "userId": "13995196286285576780"
     },
     "user_tz": 240
    },
    "id": "DYUN-Vyk_GW6"
   },
   "outputs": [],
   "source": [
    "# hyperparameters:\n",
    "learning_rate = 3e-4\n",
    "batch_size = 64\n",
    "n_layer = 5\n",
    "n_head = 5\n",
    "context_size = 256;\n",
    "device = 'cuda' if torch.cuda.is_available() else 'cpu'\n",
    "eval_iters = 200;\n",
    "n_embed =256\n",
    "dropout = 0.2\n",
    "\n"
   ]
  },
  {
   "cell_type": "code",
   "execution_count": 5,
   "metadata": {
    "colab": {
     "base_uri": "https://localhost:8080/"
    },
    "executionInfo": {
     "elapsed": 166,
     "status": "ok",
     "timestamp": 1724373793787,
     "user": {
      "displayName": "Saeed Mohseni seh deh",
      "userId": "13995196286285576780"
     },
     "user_tz": 240
    },
    "id": "QIq4Wjbzhq1u",
    "outputId": "edebec77-13de-4a1c-bce3-d4246b7223c0"
   },
   "outputs": [
    {
     "name": "stdout",
     "output_type": "stream",
     "text": [
      "unique characters are: \n",
      " !\"',-.38:;?ABCDEFGHIJKLMNOPQRSTUVWYZabcdefghijklmnopqrstuvwxyzâœ“”€™\n",
      "\n",
      " number of unique characters in the text: 70\n"
     ]
    }
   ],
   "source": [
    "# Properties of the given text, unique elements and the vocabulary size.\n",
    "chars = sorted(list(set(text)))\n",
    "vocabulary_size = len(chars)\n",
    "print(f\"unique characters are: {''.join(chars)}\")\n",
    "print(f\"\\n number of unique characters in the text: {vocabulary_size}\")"
   ]
  },
  {
   "cell_type": "code",
   "execution_count": 6,
   "metadata": {
    "colab": {
     "base_uri": "https://localhost:8080/"
    },
    "executionInfo": {
     "elapsed": 143,
     "status": "ok",
     "timestamp": 1724373796269,
     "user": {
      "displayName": "Saeed Mohseni seh deh",
      "userId": "13995196286285576780"
     },
     "user_tz": 240
    },
    "id": "FRN1LVJ4ZWoU",
    "outputId": "8b2acc1b-a98f-47d4-8a0e-a5b7edf1a4b4"
   },
   "outputs": [
    {
     "name": "stdout",
     "output_type": "stream",
     "text": [
      "[32, 45, 46, 56, 1, 46, 56, 1, 31, 38, 42, 42, 41]\n",
      "This is Saeed\n"
     ]
    }
   ],
   "source": [
    "# Tokenizing the characters:\n",
    "encoder = lambda text: [chars.index(c) for c in text]\n",
    "decoder = lambda tokenized_text: ''.join([chars[token] for token in tokenized_text])\n",
    "\n",
    "print(encoder(\"This is Saeed\"))\n",
    "print(decoder(encoder(\"This is Saeed\")))"
   ]
  },
  {
   "cell_type": "code",
   "execution_count": 7,
   "metadata": {
    "colab": {
     "base_uri": "https://localhost:8080/"
    },
    "executionInfo": {
     "elapsed": 1315,
     "status": "ok",
     "timestamp": 1724373798065,
     "user": {
      "displayName": "Saeed Mohseni seh deh",
      "userId": "13995196286285576780"
     },
     "user_tz": 240
    },
    "id": "_R5B91cBZ1GB",
    "outputId": "b8cb7edb-ed0d-4b8c-a3c4-1c4e0b316569"
   },
   "outputs": [
    {
     "name": "stdout",
     "output_type": "stream",
     "text": [
      "torch.Size([160046]) torch.int64\n",
      "tensor([27, 51, 42,  1, 41, 38, 62,  5,  1, 38,  1, 49, 46, 57, 57, 49, 42,  1,\n",
      "        44, 46, 55, 49,  1, 51, 38, 50, 42, 41,  1, 24, 46, 49, 62,  1, 43, 52,\n",
      "        58, 51, 41,  1, 38,  1, 51, 42, 42, 41, 49, 42,  1, 46, 51,  1, 45, 42,\n",
      "        55,  1, 55, 52, 52, 50,  7,  1, 31, 45, 42,  1, 48, 51, 42, 60,  1, 46,\n",
      "        57,  1, 60, 38, 56,  1, 41, 46, 43, 43, 46, 40, 58, 49, 57,  1, 57, 52,\n",
      "         1, 53, 49, 38, 62,  1, 60, 46, 57])\n"
     ]
    }
   ],
   "source": [
    "data = torch.tensor(encoder(text), dtype=torch.long)\n",
    "print(data.shape, data.dtype)\n",
    "print(data[0:99])"
   ]
  },
  {
   "cell_type": "code",
   "execution_count": 8,
   "metadata": {
    "colab": {
     "base_uri": "https://localhost:8080/"
    },
    "executionInfo": {
     "elapsed": 2,
     "status": "ok",
     "timestamp": 1724373798065,
     "user": {
      "displayName": "Saeed Mohseni seh deh",
      "userId": "13995196286285576780"
     },
     "user_tz": 240
    },
    "id": "qFL6HVn4ilA0",
    "outputId": "f9e22d52-ed68-457f-f894-b1c9c82adb62"
   },
   "outputs": [
    {
     "name": "stdout",
     "output_type": "stream",
     "text": [
      "torch.Size([144041]) torch.Size([16005])\n",
      "torch.Size([16005]) torch.int64\n"
     ]
    }
   ],
   "source": [
    "train_data = data[:int(0.9*len(data))]\n",
    "val_data = data[int(0.9*len(data)):]\n",
    "print(train_data.shape, val_data.shape)\n",
    "print(val_data.shape, data.dtype)"
   ]
  },
  {
   "cell_type": "code",
   "execution_count": 9,
   "metadata": {
    "executionInfo": {
     "elapsed": 6,
     "status": "ok",
     "timestamp": 1724373798662,
     "user": {
      "displayName": "Saeed Mohseni seh deh",
      "userId": "13995196286285576780"
     },
     "user_tz": 240
    },
    "id": "Vmq_v_vV6Vxa"
   },
   "outputs": [],
   "source": [
    "@torch.no_grad()\n",
    "def get_loss():\n",
    "  loss ={'train': 0, 'val':0}\n",
    "  model.eval()\n",
    "  for split in ['train', 'val']:\n",
    "    for i in range(eval_iters):\n",
    "      x, y = get_batch(split, batch_size)\n",
    "      logits, temp = model(x, y)\n",
    "      loss[split] = loss[split] + temp.item()\n",
    "    loss[split]  = loss[split] / eval_iters\n",
    "  model.train()\n",
    "  return loss"
   ]
  },
  {
   "cell_type": "code",
   "execution_count": 10,
   "metadata": {
    "executionInfo": {
     "elapsed": 136,
     "status": "ok",
     "timestamp": 1724373800465,
     "user": {
      "displayName": "Saeed Mohseni seh deh",
      "userId": "13995196286285576780"
     },
     "user_tz": 240
    },
    "id": "pvarkvqxi3lv"
   },
   "outputs": [],
   "source": [
    "\n",
    "def get_batch(indicator, batch_size):\n",
    "  data = train_data if indicator == 'train' else val_data\n",
    "  ix = torch.randint(len(data) - context_size, (batch_size,))\n",
    "  x = torch.stack([data[j:j+context_size] for j in ix])\n",
    "  y = torch.stack([data[j+1:j+context_size+1] for j in ix])\n",
    "  x, y = x.to(device), y.to(device)\n",
    "  return x, y\n"
   ]
  },
  {
   "cell_type": "code",
   "execution_count": 11,
   "metadata": {
    "executionInfo": {
     "elapsed": 159,
     "status": "ok",
     "timestamp": 1724374000712,
     "user": {
      "displayName": "Saeed Mohseni seh deh",
      "userId": "13995196286285576780"
     },
     "user_tz": 240
    },
    "id": "jOLgkojg-UhD"
   },
   "outputs": [],
   "source": [
    "# Head module (self attention):\n",
    "class Head(nn.Module):\n",
    "  def __init__(self, head_size):\n",
    "    super().__init__()\n",
    "    self.key = nn.Linear(n_embed, head_size, bias=False)\n",
    "    self.query = nn.Linear(n_embed, head_size, bias=False)\n",
    "    self.value = nn.Linear(n_embed, head_size, bias=False)\n",
    "    self.dropout = nn.Dropout(dropout)\n",
    "    self.register_buffer('tril', torch.tril(torch.ones(context_size, context_size)))\n",
    "\n",
    "  def forward(self, x):\n",
    "    B, T, C = x.shape\n",
    "    k = self.key(x)\n",
    "    q = self.query(x)\n",
    "    v = self.value(x)\n",
    "    wei = q @ k.transpose(-2, -1) * C**-0.5\n",
    "    wei = wei.masked_fill(self.tril[:T, :T] == 0, float('-inf'))\n",
    "    wei = F.softmax(wei, dim=-1)\n",
    "    wei = self.dropout(wei)\n",
    "    out = wei @ v\n",
    "    return out\n",
    "\n",
    "class MultiHeadAttention(nn.Module):\n",
    "  def __init__(self, num_heads, head_size):\n",
    "    super().__init__()\n",
    "    self.heads = nn.ModuleList([Head(head_size) for _ in range(num_heads)])\n",
    "    self.proj = nn.Linear(head_size * num_heads, n_embed)\n",
    "    self.dropout = nn.Dropout(dropout)\n",
    "  def forward(self, x):\n",
    "    return self.dropout(self.proj(torch.cat([h(x) for h in self.heads], dim=-1)))\n",
    "\n",
    "\n",
    "class FeedForward(nn.Module):\n",
    "  def __init__(self, n_embed):\n",
    "    super().__init__()\n",
    "    self.net = nn.Sequential(\n",
    "        nn.Linear(n_embed, 4 * n_embed),\n",
    "        nn.ReLU(),\n",
    "        nn.Linear(4 * n_embed, n_embed),\n",
    "        nn.Dropout(dropout)\n",
    "    )\n",
    "\n",
    "  def forward(self, x):\n",
    "    return self.net(x)\n",
    "\n",
    "class Block(nn.Module):\n",
    "  def __init__(self, n_embed, n_head):\n",
    "    super().__init__()\n",
    "    head_size = n_embed // n_head\n",
    "    self.sa = MultiHeadAttention(n_head, head_size)\n",
    "    self.ffwd = FeedForward(n_embed)\n",
    "    self.ln1 = nn.LayerNorm(n_embed)\n",
    "    self.ln2 = nn.LayerNorm(n_embed)\n",
    "\n",
    "  def forward(self, x):\n",
    "    x = x + self.sa(self.ln1(x))\n",
    "    x = x + self.ffwd(self.ln2(x))\n",
    "    return x"
   ]
  },
  {
   "cell_type": "code",
   "execution_count": 12,
   "metadata": {
    "colab": {
     "base_uri": "https://localhost:8080/"
    },
    "executionInfo": {
     "elapsed": 24180,
     "status": "ok",
     "timestamp": 1724374033638,
     "user": {
      "displayName": "Saeed Mohseni seh deh",
      "userId": "13995196286285576780"
     },
     "user_tz": 240
    },
    "id": "r0UYzHvoxW9F",
    "outputId": "0e7247fe-4311-4d9f-db3e-7f252bc0a1c9"
   },
   "outputs": [
    {
     "name": "stdout",
     "output_type": "stream",
     "text": [
      "torch.Size([16384, 70])\n",
      "tensor(4.4106, device='cuda:0', grad_fn=<NllLossBackward0>)\n",
      "tensor([[ 0, 49, 65, 25, 56, 69, 12, 59, 26, 60, 61, 28, 57, 29, 26, 18, 53, 61,\n",
      "         59, 56,  8, 44,  7, 26, 24, 65, 45, 29, 55, 17, 17, 65, 53, 53, 66, 17,\n",
      "         24,  6, 24, 67, 52, 61, 21, 17, 65, 48,  1, 42, 28, 31,  0, 69, 22, 57,\n",
      "          7, 57, 17,  2, 17,  7, 26, 35, 34, 19, 31, 27, 66, 29, 11, 34, 16, 21,\n",
      "         37, 12, 40, 48,  5, 47, 52, 12, 31, 48,  9, 32, 54, 11, 63, 11, 24, 48,\n",
      "         13,  1, 24, 37, 27, 50, 14, 53, 65, 11, 17]], device='cuda:0')\n",
      "\n",
      "ea?âuSoJFvb:Quiqbqat,Mdbpœl.D\n",
      "yœwyx'AOK™;ZNdUCBK?;x,U\"pœwpBDVmQo,€âQSTCxuDjCqœqMI.Ydax“-3!b.nA,œtR:y\n"
     ]
    }
   ],
   "source": [
    "\n",
    "\n",
    "class BigramLM(nn.Module):\n",
    "  def __init__(self):\n",
    "    super().__init__()\n",
    "    self.token_embedding_table = nn.Embedding(vocabulary_size, n_embed)\n",
    "    self.position_embedding_table = nn.Embedding(context_size, n_embed)\n",
    "    self.lm_head = nn.Linear(n_embed, vocabulary_size)\n",
    "    self.blocks = nn.Sequential( *[Block(n_embed, n_head) for _ in range(n_layer)] )\n",
    "    self.ln_f = nn.LayerNorm(n_embed)\n",
    "    #self.blocks = nn.Sequential(\n",
    "    #    Block(n_embed, n_head),\n",
    "    #    Block(n_embed, n_head),\n",
    "    #    Block(n_embed, n_head),\n",
    "\n",
    "    self.sa_head = MultiHeadAttention(4, n_embed//4)\n",
    "    self.ffwd = FeedForward(n_embed)\n",
    "\n",
    "  def forward(self, idx, targets=None):\n",
    "    B, T = idx.shape\n",
    "    token_embed = self.token_embedding_table(idx)\n",
    "    pos_embed = self.position_embedding_table(torch.arange(T, device=device))\n",
    "    token_embed = token_embed + pos_embed\n",
    "    x = self.blocks(token_embed)\n",
    "    x = self.ln_f(x)\n",
    "    logits = self.lm_head(x) # (B,T,C)\n",
    "    B, T, C = logits.shape\n",
    "\n",
    "    #logits = logits @ torch.triu(torch.mean(torch.ones(B,T), dim=1))\n",
    "\n",
    "    if targets is None:\n",
    "      loss = None\n",
    "    else:\n",
    "      logits = logits.view(B*T, C)\n",
    "      targets = targets.view(B*T)\n",
    "      loss = F.cross_entropy(logits, targets)\n",
    "    return logits, loss\n",
    "\n",
    "  def generate(self, idx, max_new_tokens):\n",
    "    for _ in range(max_new_tokens):\n",
    "      truncate_idx = idx[:, -context_size:]\n",
    "      logits, loss = self(truncate_idx)\n",
    "      logits = logits[:, -1, :]\n",
    "      probs = F.softmax(logits, dim=-1)\n",
    "      next_char = torch.multinomial(probs, num_samples=1)\n",
    "      idx = torch.cat((idx, next_char), dim=1)\n",
    "    return idx\n",
    "\n",
    "x, y = get_batch('train', batch_size)\n",
    "model = BigramLM().to(device)\n",
    "logits, loss = model(x, y)\n",
    "print(logits.shape)\n",
    "print(loss)\n",
    "print((model.generate(torch.zeros((1, 1), dtype=torch.long, device=device), max_new_tokens=100)))\n",
    "print(decoder(model.generate(torch.zeros((1, 1), dtype=torch.long, device=device), max_new_tokens=100)[0].tolist()))\n",
    "#"
   ]
  },
  {
   "cell_type": "code",
   "execution_count": null,
   "metadata": {
    "executionInfo": {
     "elapsed": 2,
     "status": "ok",
     "timestamp": 1724356285862,
     "user": {
      "displayName": "Saeed Mohseni seh deh",
      "userId": "13995196286285576780"
     },
     "user_tz": 240
    },
    "id": "JFzW6igJ9kCY"
   },
   "outputs": [],
   "source": []
  },
  {
   "cell_type": "code",
   "execution_count": 13,
   "metadata": {
    "colab": {
     "base_uri": "https://localhost:8080/"
    },
    "executionInfo": {
     "elapsed": 2603912,
     "status": "ok",
     "timestamp": 1724365252529,
     "user": {
      "displayName": "Saeed Mohseni seh deh",
      "userId": "13995196286285576780"
     },
     "user_tz": 240
    },
    "id": "DFHz5_h_-o_T",
    "outputId": "1af183e1-4902-47c4-a555-1c4be78cafbd"
   },
   "outputs": [
    {
     "name": "stdout",
     "output_type": "stream",
     "text": [
      "step: 200, train loss: 2.1812, val loss: 2.2402\n",
      "step: 400, train loss: 1.5084, val loss: 1.6669\n",
      "step: 600, train loss: 1.1669, val loss: 1.4296\n",
      "step: 800, train loss: 0.9655, val loss: 1.3451\n",
      "step: 1000, train loss: 0.8032, val loss: 1.3444\n"
     ]
    }
   ],
   "source": [
    "# optimization:\n",
    "optimizer = torch.optim.AdamW(model.parameters(), lr=1e-3)\n",
    "\n",
    "\n",
    "epoch = 1000\n",
    "\n",
    "train_loss = np.zeros([epoch,1])\n",
    "val_loss = np.zeros([epoch,1])\n",
    "\n",
    "for steps in range(epoch):\n",
    "  x, y = get_batch('train', batch_size)\n",
    "  logits, loss = model(x, y)\n",
    "  optimizer.zero_grad(set_to_none=True)\n",
    "  loss.backward()\n",
    "  optimizer.step()\n",
    "  \n",
    "  loss = get_loss()\n",
    "  train_loss[steps,0] = loss['train']\n",
    "  val_loss[steps,0] = loss['val']\n",
    "  if (steps+1) % eval_iters == 0:\n",
    "    loss = get_loss()\n",
    "    print(f\"step: {steps+1}, train loss: {loss['train']:.4f}, val loss: {loss['val']:.4f}\")"
   ]
  },
  {
   "cell_type": "code",
   "execution_count": 14,
   "metadata": {
    "colab": {
     "base_uri": "https://localhost:8080/"
    },
    "executionInfo": {
     "elapsed": 6481,
     "status": "ok",
     "timestamp": 1724365445762,
     "user": {
      "displayName": "Saeed Mohseni seh deh",
      "userId": "13995196286285576780"
     },
     "user_tz": 240
    },
    "id": "W-44Q2GHxnqG",
    "outputId": "eb2950f2-7eda-4de1-b15b-c69248c43ada"
   },
   "outputs": [
    {
     "name": "stdout",
     "output_type": "stream",
     "text": [
      "tensor([[ 0, 27, 51, 40, 42,  1, 58, 53, 52, 51,  1, 38,  1, 43, 55, 46, 42, 51,\n",
      "         41,  5,  1, 17, 49, 49, 38,  1, 43, 52, 49, 49,  1, 60, 38, 56,  1, 22,\n",
      "         52, 62,  7,  1, 32, 45, 42, 55, 42,  1, 60, 38, 56,  1, 38, 49, 49,  1,\n",
      "         56, 60, 42, 42, 57,  1, 40, 49, 46, 50, 56, 42, 49, 46, 51, 44,  1, 46,\n",
      "         51,  1, 57, 45, 42,  1, 39, 38, 61,  7,  0,  0, 32, 45, 42, 62,  1, 49,\n",
      "         52, 52, 48, 42, 41,  1, 38, 57,  1, 57, 45]], device='cuda:0')\n",
      "\n",
      "yearlived around and had a differ named Tim. Unte to the animals goodbye. And the looking. Nowhered a lot of together to wair? He was so happy and wanted for his continue, but it. He took to ssat tigh\n"
     ]
    }
   ],
   "source": [
    "print((model.generate(torch.zeros((1, 1), dtype=torch.long, device=device), max_new_tokens=100)))\n",
    "print(decoder(model.generate(torch.zeros((1, 1), dtype=torch.long, device=device), max_new_tokens=200)[0].tolist()))"
   ]
  },
  {
   "cell_type": "code",
   "execution_count": 15,
   "metadata": {
    "executionInfo": {
     "elapsed": 1495,
     "status": "ok",
     "timestamp": 1724365647308,
     "user": {
      "displayName": "Saeed Mohseni seh deh",
      "userId": "13995196286285576780"
     },
     "user_tz": 240
    },
    "id": "QR3rJBclYG75"
   },
   "outputs": [],
   "source": [
    "torch.save(model.state_dict(), '../SavedModels/model.pth')"
   ]
  },
  {
   "cell_type": "code",
   "execution_count": 16,
   "metadata": {
    "colab": {
     "base_uri": "https://localhost:8080/"
    },
    "executionInfo": {
     "elapsed": 3532,
     "status": "ok",
     "timestamp": 1724374091552,
     "user": {
      "displayName": "Saeed Mohseni seh deh",
      "userId": "13995196286285576780"
     },
     "user_tz": 240
    },
    "id": "kWT87XU8M6Zj",
    "outputId": "27f97900-37a1-4edd-e4b4-9f5cf4134fb5"
   },
   "outputs": [
    {
     "name": "stderr",
     "output_type": "stream",
     "text": [
      "/localscratch-nvme/3514100/ipykernel_3379332/1551055486.py:1: FutureWarning: You are using `torch.load` with `weights_only=False` (the current default value), which uses the default pickle module implicitly. It is possible to construct malicious pickle data which will execute arbitrary code during unpickling (See https://github.com/pytorch/pytorch/blob/main/SECURITY.md#untrusted-models for more details). In a future release, the default value for `weights_only` will be flipped to `True`. This limits the functions that could be executed during unpickling. Arbitrary objects will no longer be allowed to be loaded via this mode unless they are explicitly allowlisted by the user via `torch.serialization.add_safe_globals`. We recommend you start setting `weights_only=True` for any use case where you don't have full control of the loaded file. Please open an issue on GitHub for any issues related to this experimental feature.\n",
      "  model.load_state_dict(torch.load('../SavedModels/model.pth', map_location=torch.device('cpu')))\n"
     ]
    },
    {
     "data": {
      "text/plain": [
       "<All keys matched successfully>"
      ]
     },
     "execution_count": 16,
     "metadata": {},
     "output_type": "execute_result"
    }
   ],
   "source": [
    "\n",
    "model.load_state_dict(torch.load('../SavedModels/model.pth', map_location=torch.device('cpu')))"
   ]
  },
  {
   "cell_type": "code",
   "execution_count": 17,
   "metadata": {
    "colab": {
     "base_uri": "https://localhost:8080/"
    },
    "executionInfo": {
     "elapsed": 75770,
     "status": "ok",
     "timestamp": 1724374241306,
     "user": {
      "displayName": "Saeed Mohseni seh deh",
      "userId": "13995196286285576780"
     },
     "user_tz": 240
    },
    "id": "1Uewmizrruo9",
    "outputId": "0e2847cf-17ab-4b0d-d4e4-eae0495470f9"
   },
   "outputs": [
    {
     "name": "stdout",
     "output_type": "stream",
     "text": [
      "tensor([[ 0, 52, 38,  1, 62, 52, 58, 55,  1, 38, 50, 59, 42, 55, 62,  1, 41, 38,\n",
      "         62,  5,  3,  1, 56, 45, 42,  1, 56, 38, 46, 41,  5,  1,  3, 24, 46, 63,\n",
      "         46, 53, 53, 46, 51, 44,  1, 46, 51,  1, 60, 42,  1, 57, 45, 42,  1, 53,\n",
      "         38, 55, 48,  1, 41, 52, 60, 51,  7,  1, 24, 46, 57, 57, 49, 42,  1, 22,\n",
      "         38, 51, 42,  1, 49, 46, 57, 57, 49, 42,  1, 44, 46, 55, 49,  1, 51, 38,\n",
      "         50, 42, 41,  1, 13, 50, 62,  7,  1, 21,  4]], device='cuda:0')\n",
      "\n",
      "When fold out the fowerst. He had a little girl and was slike give a wonderful to his fraio. Frank Jim found named Fluffy together. One no play where yvere saw a wanter to play and int of the flower. \n",
      "\n",
      "Sue watched as the lady, he thinked goody the luck and felt all oneved what happy. Then, his forgood and and played day.\n",
      "\n",
      "Once upon a time, therer called to laught for a magical her toy, and said. He lived in and the little girl gasspok hurtly sure the sprange of naughty. As Rita tree throughted a\n"
     ]
    }
   ],
   "source": [
    "print((model.generate(torch.zeros((1, 1), dtype=torch.long, device=device), max_new_tokens=100)))\n",
    "print(decoder(model.generate(torch.zeros((1, 1), dtype=torch.long, device=device), max_new_tokens=500)[0].tolist()))"
   ]
  },
  {
   "cell_type": "code",
   "execution_count": null,
   "metadata": {},
   "outputs": [
    {
     "data": {
      "image/png": "[encoded data removed]",
      "text/plain": [
       "<Figure size 700x450 with 1 Axes>"
      ]
     },
     "metadata": {
      "image/png": {
       "height": 441,
       "width": 691
      }
     },
     "output_type": "display_data"
    }
   ],
   "source": [
    "%config InlineBackend.figure_format = 'retina'\n",
    "\n",
    "train_loss = train_loss.flatten()\n",
    "val_loss = val_loss.flatten()\n",
    "epochs = np.arange(1, len(train_loss) + 1)\n",
    "\n",
    "# --- Plot ---\n",
    "plt.style.use(\"seaborn-v0_8-whitegrid\")  # clean style\n",
    "\n",
    "plt.figure(figsize=(7, 4.5))\n",
    "plt.plot(epochs, train_loss, label=\"Train Loss\", linewidth=2)\n",
    "plt.plot(epochs, val_loss, label=\"Validation Loss\", linewidth=2, linestyle=\"--\")\n",
    "\n",
    "plt.title(\"Training and Validation Loss over Epochs\", fontsize=14, fontweight='bold')\n",
    "plt.xlabel(\"Epoch\", fontsize=12)\n",
    "plt.ylabel(\"Loss\", fontsize=12)\n",
    "plt.legend(frameon=True, fontsize=10)\n",
    "plt.tight_layout()"
   ]
  },
  {
   "cell_type": "code",
   "execution_count": 40,
   "metadata": {
    "id": "iA-ILFrDtJ1B"
   },
   "outputs": [
    {
     "name": "stdout",
     "output_type": "stream",
     "text": [
      "The Girl cake the scape was depare and was happy. She was so happy time, bigger thange.\n",
      "One was a small, shri\n"
     ]
    }
   ],
   "source": [
    "#print((model.generate(torch.unsqueeze(torch.tensor(encoder(\"This is Saeed\"), dtype=torch.long, device=device),0), max_new_tokens=100)))\n",
    "print(decoder(model.generate(torch.unsqueeze(torch.tensor(encoder(\"The Girl \"), dtype=torch.long, device=device),0), max_new_tokens=100)[0].tolist()))"
   ]
  },
  {
   "cell_type": "code",
   "execution_count": 38,
   "metadata": {},
   "outputs": [],
   "source": [
    "A = torch.unsqueeze(torch.tensor(encoder(\"This is Saeed\"), dtype=torch.long, device=device),0)"
   ]
  },
  {
   "cell_type": "code",
   "execution_count": 25,
   "metadata": {},
   "outputs": [
    {
     "data": {
      "text/plain": [
       "torch.Size([1, 13])"
      ]
     },
     "execution_count": 25,
     "metadata": {},
     "output_type": "execute_result"
    }
   ],
   "source": [
    "A.shape\n"
   ]
  },
  {
   "cell_type": "code",
   "execution_count": null,
   "metadata": {},
   "outputs": [],
   "source": []
  }
 ],
 "metadata": {
  "accelerator": "GPU",
  "colab": {
   "authorship_tag": "ABX9TyOAK8QfIyQ+5FlhpCTja6il",
   "gpuType": "T4",
   "provenance": []
  },
  "kernelspec": {
   "display_name": "diffusion",
   "language": "python",
   "name": "python3"
  },
  "language_info": {
   "codemirror_mode": {
    "name": "ipython",
    "version": 3
   },
   "file_extension": ".py",
   "mimetype": "text/x-python",
   "name": "python",
   "nbconvert_exporter": "python",
   "pygments_lexer": "ipython3",
   "version": "3.11.11"
  }
 },
 "nbformat": 4,
 "nbformat_minor": 0
}
