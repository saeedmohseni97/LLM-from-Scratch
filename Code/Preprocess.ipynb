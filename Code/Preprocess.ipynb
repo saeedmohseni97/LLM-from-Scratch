{
 "cells": [
  {
   "cell_type": "code",
   "execution_count": 1,
   "id": "187b5c2d",
   "metadata": {},
   "outputs": [],
   "source": [
    "import pandas as pd\n",
    "import pyarrow.parquet as pq"
   ]
  },
  {
   "cell_type": "code",
   "execution_count": 2,
   "id": "c798841f",
   "metadata": {},
   "outputs": [
    {
     "name": "stdout",
     "output_type": "stream",
     "text": [
      "                                                text\n",
      "0  One day, a little girl named Lily found a need...\n",
      "1  Once upon a time, there was a little car named...\n",
      "2  One day, a little fish named Fin was swimming ...\n",
      "3  Once upon a time, in a land full of trees, the...\n",
      "4  Once upon a time, there was a little girl name...\n"
     ]
    }
   ],
   "source": [
    "table = pq.read_table(\"/home/saeedmohseni/Desktop/LLM/Dataset/0000.parquet\")\n",
    "df = table.to_pandas()\n",
    "print(df.head())"
   ]
  },
  {
   "cell_type": "code",
   "execution_count": 3,
   "id": "993ad579",
   "metadata": {},
   "outputs": [],
   "source": [
    "stories = df[\"text\"][:200]  \n",
    "\n",
    "text = \"\\n\\n\".join(stories)\n",
    "\n",
    "# Save to text file\n",
    "with open(\"/home/saeedmohseni/Desktop/LLM/Dataset/text.txt\", \"w\", encoding=\"utf-8\") as f:\n",
    "    f.write(text)"
   ]
  },
  {
   "cell_type": "code",
   "execution_count": null,
   "id": "53cbd7cf",
   "metadata": {},
   "outputs": [],
   "source": []
  }
 ],
 "metadata": {
  "kernelspec": {
   "display_name": "diffusion",
   "language": "python",
   "name": "python3"
  },
  "language_info": {
   "codemirror_mode": {
    "name": "ipython",
    "version": 3
   },
   "file_extension": ".py",
   "mimetype": "text/x-python",
   "name": "python",
   "nbconvert_exporter": "python",
   "pygments_lexer": "ipython3",
   "version": "3.11.11"
  }
 },
 "nbformat": 4,
 "nbformat_minor": 5
}
